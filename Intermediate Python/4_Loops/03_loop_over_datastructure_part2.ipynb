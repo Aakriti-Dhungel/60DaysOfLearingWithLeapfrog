{
 "cells": [
  {
   "cell_type": "markdown",
   "id": "74d0af77",
   "metadata": {},
   "source": [
    "`df.iterrows()`: Loops through pandas DataFrame rows as (index, row) pairs."
   ]
  },
  {
   "cell_type": "code",
   "execution_count": 1,
   "id": "126eafb5",
   "metadata": {},
   "outputs": [
    {
     "name": "stdout",
     "output_type": "stream",
     "text": [
      "US\n",
      "cars_per_cap              809\n",
      "country         United States\n",
      "drives_right             True\n",
      "Name: US, dtype: object\n",
      "AUS\n",
      "cars_per_cap          731\n",
      "country         Australia\n",
      "drives_right        False\n",
      "Name: AUS, dtype: object\n",
      "JPN\n",
      "cars_per_cap      588\n",
      "country         Japan\n",
      "drives_right    False\n",
      "Name: JPN, dtype: object\n",
      "IN\n",
      "cars_per_cap       18\n",
      "country         India\n",
      "drives_right    False\n",
      "Name: IN, dtype: object\n",
      "RU\n",
      "cars_per_cap       200\n",
      "country         Russia\n",
      "drives_right      True\n",
      "Name: RU, dtype: object\n",
      "MOR\n",
      "cars_per_cap         70\n",
      "country         Morocco\n",
      "drives_right       True\n",
      "Name: MOR, dtype: object\n",
      "EG\n",
      "cars_per_cap       45\n",
      "country         Egypt\n",
      "drives_right     True\n",
      "Name: EG, dtype: object\n"
     ]
    }
   ],
   "source": [
    "# Import cars data\n",
    "import pandas as pd\n",
    "cars = pd.read_csv('cars.csv', index_col = 0)\n",
    "\n",
    "# Iterate over rows of cars\n",
    "for car,row in cars.iterrows():\n",
    "    print(car)\n",
    "    print(row)"
   ]
  },
  {
   "cell_type": "markdown",
   "id": "233d693a",
   "metadata": {},
   "source": [
    "Loop over DataFrame (2)\n"
   ]
  },
  {
   "cell_type": "code",
   "execution_count": 2,
   "id": "f003c528",
   "metadata": {},
   "outputs": [
    {
     "name": "stdout",
     "output_type": "stream",
     "text": [
      "US: 809\n",
      "AUS: 731\n",
      "JPN: 588\n",
      "IN: 18\n",
      "RU: 200\n",
      "MOR: 70\n",
      "EG: 45\n"
     ]
    }
   ],
   "source": [
    "# Import cars data\n",
    "import pandas as pd\n",
    "cars = pd.read_csv('cars.csv', index_col = 0)\n",
    "\n",
    "# Adapt for loop\n",
    "for lab, row in cars.iterrows() :\n",
    "    print(lab + \": \" + str(row['cars_per_cap']))\n",
    "    "
   ]
  },
  {
   "cell_type": "markdown",
   "id": "e5919f61",
   "metadata": {},
   "source": [
    "Add column(1)"
   ]
  },
  {
   "cell_type": "code",
   "execution_count": 1,
   "id": "041936c2",
   "metadata": {},
   "outputs": [
    {
     "name": "stdout",
     "output_type": "stream",
     "text": [
      "       cars_per_cap        country  drives_right        COUNTRY\n",
      "index                                                          \n",
      "US              809  United States          True  UNITED STATES\n",
      "AUS             731      Australia         False      AUSTRALIA\n",
      "JPN             588          Japan         False          JAPAN\n",
      "IN               18          India         False          INDIA\n",
      "RU              200         Russia          True         RUSSIA\n",
      "MOR              70        Morocco          True        MOROCCO\n",
      "EG               45          Egypt          True          EGYPT\n"
     ]
    }
   ],
   "source": [
    "# Import cars data\n",
    "import pandas as pd\n",
    "cars = pd.read_csv('cars.csv', index_col = 0)\n",
    "\n",
    "# Code for loop that adds COUNTRY column\n",
    "for lab , row in cars.iterrows():\n",
    "    cars.loc[lab, \"COUNTRY\"] = row[\"country\"].upper()\n",
    "print(cars)"
   ]
  },
  {
   "cell_type": "markdown",
   "id": "0af4edd3",
   "metadata": {},
   "source": [
    "`df.apply()`: Applies a function to each element or row/column in a pandas DataFrame or Series.\n"
   ]
  },
  {
   "cell_type": "code",
   "execution_count": null,
   "id": "3d7dda15",
   "metadata": {},
   "outputs": [
    {
     "name": "stdout",
     "output_type": "stream",
     "text": [
      "       cars_per_cap        country  drives_right        COUNTRY\n",
      "index                                                          \n",
      "US              809  United States          True  UNITED STATES\n",
      "AUS             731      Australia         False      AUSTRALIA\n",
      "JPN             588          Japan         False          JAPAN\n",
      "IN               18          India         False          INDIA\n",
      "RU              200         Russia          True         RUSSIA\n",
      "MOR              70        Morocco          True        MOROCCO\n",
      "EG               45          Egypt          True          EGYPT\n"
     ]
    }
   ],
   "source": [
    "import pandas as pd\n",
    "cars = pd.read_csv('cars.csv', index_col = 0)\n",
    "\n",
    "# Use .apply(str.upper)\n",
    "for lab, row in cars.iterrows() :\n",
    "    cars[\"COUNTRY\"] = cars[\"country\"].apply(str.upper)\n",
    "\n",
    "\n",
    "print(cars)"
   ]
  }
 ],
 "metadata": {
  "kernelspec": {
   "display_name": "Python 3",
   "language": "python",
   "name": "python3"
  },
  "language_info": {
   "codemirror_mode": {
    "name": "ipython",
    "version": 3
   },
   "file_extension": ".py",
   "mimetype": "text/x-python",
   "name": "python",
   "nbconvert_exporter": "python",
   "pygments_lexer": "ipython3",
   "version": "3.13.3"
  }
 },
 "nbformat": 4,
 "nbformat_minor": 5
}
