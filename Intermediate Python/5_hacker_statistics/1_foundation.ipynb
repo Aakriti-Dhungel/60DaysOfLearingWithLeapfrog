{
 "cells": [
  {
   "cell_type": "markdown",
   "id": "c0450822",
   "metadata": {},
   "source": [
    "Random Generator"
   ]
  },
  {
   "cell_type": "code",
   "execution_count": 2,
   "id": "0cc0b64c",
   "metadata": {},
   "outputs": [
    {
     "data": {
      "text/plain": [
       "0.2507747361673608"
      ]
     },
     "execution_count": 2,
     "metadata": {},
     "output_type": "execute_result"
    }
   ],
   "source": [
    "import numpy as np\n",
    "np.random.rand()      # Pseudo-random numbers\n",
    "# Mathematical formula\n"
   ]
  },
  {
   "cell_type": "code",
   "execution_count": 3,
   "id": "f36fb7fb",
   "metadata": {},
   "outputs": [
    {
     "data": {
      "text/plain": [
       "0.6964691855978616"
      ]
     },
     "execution_count": 3,
     "metadata": {},
     "output_type": "execute_result"
    }
   ],
   "source": [
    "np.random.seed(123)    # Starting from a seed \n",
    "np.random.rand()"
   ]
  }
 ],
 "metadata": {
  "kernelspec": {
   "display_name": "Python 3",
   "language": "python",
   "name": "python3"
  },
  "language_info": {
   "codemirror_mode": {
    "name": "ipython",
    "version": 3
   },
   "file_extension": ".py",
   "mimetype": "text/x-python",
   "name": "python",
   "nbconvert_exporter": "python",
   "pygments_lexer": "ipython3",
   "version": "3.13.3"
  }
 },
 "nbformat": 4,
 "nbformat_minor": 5
}
