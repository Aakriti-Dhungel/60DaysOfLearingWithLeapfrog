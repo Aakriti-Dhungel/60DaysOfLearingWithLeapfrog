{
 "cells": [
  {
   "cell_type": "markdown",
   "id": "1abbc7f0",
   "metadata": {},
   "source": [
    " Coin Toss\n"
   ]
  },
  {
   "cell_type": "code",
   "execution_count": 1,
   "id": "dbe4f5e5",
   "metadata": {},
   "outputs": [
    {
     "name": "stdout",
     "output_type": "stream",
     "text": [
      "0\n"
     ]
    }
   ],
   "source": [
    "import numpy as np\n",
    "np.random.seed(123)\n",
    "coin = np.random.randint(0,2)  # Randomly generate 0 or 1 \n",
    "print(coin)"
   ]
  },
  {
   "cell_type": "code",
   "execution_count": 8,
   "id": "120e3e5f",
   "metadata": {},
   "outputs": [
    {
     "name": "stdout",
     "output_type": "stream",
     "text": [
      "0\n",
      "heads\n"
     ]
    }
   ],
   "source": [
    "import numpy as np\n",
    "np.random.seed(123)\n",
    "coin = np.random.randint(0,2)  # Randomly generate 0 or 1\n",
    "print(coin)\n",
    "if coin == 0:\n",
    "    print(\"heads\")\n",
    "else:\n",
    "    print(\"tails\")\n"
   ]
  }
 ],
 "metadata": {
  "kernelspec": {
   "display_name": "Python 3",
   "language": "python",
   "name": "python3"
  },
  "language_info": {
   "codemirror_mode": {
    "name": "ipython",
    "version": 3
   },
   "file_extension": ".py",
   "mimetype": "text/x-python",
   "name": "python",
   "nbconvert_exporter": "python",
   "pygments_lexer": "ipython3",
   "version": "3.13.3"
  }
 },
 "nbformat": 4,
 "nbformat_minor": 5
}
