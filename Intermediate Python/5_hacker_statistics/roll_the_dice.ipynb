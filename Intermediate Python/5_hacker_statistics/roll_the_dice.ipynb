{
 "cells": [
  {
   "cell_type": "markdown",
   "id": "58614ce3",
   "metadata": {},
   "source": [
    "`seed()`: By default the random number generator uses the current system time.\n",
    "\n",
    "Use the seed() method to customize the start number of the random number generator.\n",
    "\n",
    "Note: If we use the same seed value twice we will get the same random number twice."
   ]
  },
  {
   "cell_type": "code",
   "execution_count": null,
   "id": "1994d4e4",
   "metadata": {},
   "outputs": [
    {
     "name": "stdout",
     "output_type": "stream",
     "text": [
      "6\n",
      "3\n"
     ]
    }
   ],
   "source": [
    "import numpy as np\n",
    "np.random.seed(123)\n",
    "\n",
    "dice1 = np.random.randint(1,7)\n",
    "\n",
    "dice2 = np.random.randint(1,7)\n",
    "print(dice1)\n",
    "print(dice2)"
   ]
  },
  {
   "cell_type": "code",
   "execution_count": 5,
   "id": "51ec5313",
   "metadata": {},
   "outputs": [
    {
     "name": "stdout",
     "output_type": "stream",
     "text": [
      "4\n",
      "51\n"
     ]
    }
   ],
   "source": [
    "# Determine next move\n",
    "import numpy as np \n",
    "step = 50\n",
    "\n",
    "# Roll the dice\n",
    "dice = np.random.randint(1,7)\n",
    "\n",
    "# the control construct\n",
    "if dice <= 2 :\n",
    "    step = step - 1\n",
    "elif dice <= 5 :\n",
    "    step = step + 1\n",
    "else :\n",
    "    step = step + np.random.randint(1,7)\n",
    "\n",
    "print(dice)\n",
    "print(step)"
   ]
  },
  {
   "cell_type": "markdown",
   "id": "c2d498f6",
   "metadata": {},
   "source": [
    "# Random Success"
   ]
  },
  {
   "cell_type": "code",
   "execution_count": 9,
   "id": "f9a9a7c4",
   "metadata": {},
   "outputs": [
    {
     "name": "stdout",
     "output_type": "stream",
     "text": [
      "['heads', 'tails', 'heads', 'heads', 'heads', 'heads', 'heads', 'tails', 'tails', 'heads']\n"
     ]
    }
   ],
   "source": [
    "import numpy as np\n",
    "np.random.seed(123)\n",
    "outcomes = []\n",
    "for x in range(10) :\n",
    "    coin = np.random.randint(0, 2)\n",
    "    if coin == 0 :        \n",
    "        outcomes.append(\"heads\")\n",
    "    else :        \n",
    "        outcomes.append(\"tails\")\n",
    "print(outcomes)\n"
   ]
  },
  {
   "cell_type": "code",
   "execution_count": 10,
   "id": "0a90237e",
   "metadata": {},
   "outputs": [
    {
     "name": "stdout",
     "output_type": "stream",
     "text": [
      "[0, 0, 1, 1, 1, 1, 1, 1, 2, 3, 3]\n"
     ]
    }
   ],
   "source": [
    "import numpy as np\n",
    "np.random.seed(123)\n",
    "\n",
    "tails = [0]\n",
    "for x in range(10):\n",
    "    coin = np.random.randint(0, 2)\n",
    "    tails.append(tails[x] + coin)\n",
    "\n",
    "print(tails)\n"
   ]
  }
 ],
 "metadata": {
  "kernelspec": {
   "display_name": "Python 3",
   "language": "python",
   "name": "python3"
  },
  "language_info": {
   "codemirror_mode": {
    "name": "ipython",
    "version": 3
   },
   "file_extension": ".py",
   "mimetype": "text/x-python",
   "name": "python",
   "nbconvert_exporter": "python",
   "pygments_lexer": "ipython3",
   "version": "3.13.3"
  }
 },
 "nbformat": 4,
 "nbformat_minor": 5
}
